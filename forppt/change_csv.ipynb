{
 "cells": [
  {
   "cell_type": "code",
   "execution_count": null,
   "id": "28111991-b8a1-49ee-b9da-0e9eb2c2f2c2",
   "metadata": {},
   "outputs": [],
   "source": [
    "from selenium import webdriver as wb\n",
    "from selenium.webdriver.common.by import By\n",
    "from selenium.webdriver.common.keys import Keys\n",
    "import pandas as pd\n",
    "import time\n",
    "import re\n"
   ]
  },
  {
   "cell_type": "code",
   "execution_count": null,
   "id": "55c66909-59cf-407f-b9c7-627f277b9f8a",
   "metadata": {},
   "outputs": [],
   "source": [
    "import pandas as pd\n",
    "df1 = pd.read_csv(\"./제주시_명소.csv\")\n",
    "df2 = pd.read_csv(\"./제주도_맛집_카페_숙소.csv\")\n"
   ]
  },
  {
   "cell_type": "code",
   "execution_count": null,
   "id": "061caba0-74c7-42c1-be4a-4763c9a32400",
   "metadata": {},
   "outputs": [],
   "source": [
    "url = f\"https://search.naver.com/search.naver?where=nexearch&sm=top_hty&fbm=0&ie=utf8&query=\"\n",
    "driver = wb.Chrome()\n",
    "driver.get(url)"
   ]
  },
  {
   "cell_type": "code",
   "execution_count": null,
   "id": "93fcfff2-9608-4ec8-86b9-b6118b6774ed",
   "metadata": {},
   "outputs": [],
   "source": [
    "searchbox = driver.find_element(By.CSS_SELECTOR, \".box_window\")"
   ]
  },
  {
   "cell_type": "code",
   "execution_count": null,
   "id": "2b59e00c-a641-40e9-98a7-b17d5167da01",
   "metadata": {},
   "outputs": [],
   "source": [
    "\n",
    "changed_address = []\n",
    "change_rows = []\n",
    "delete_rows = []\n",
    "\n",
    "for i in range(len(df1)):\n",
    "    if(df1[\"place\"][i]==df1[\"address\"][i]):\n",
    "        searchbox = driver.find_element(By.CSS_SELECTOR, \".box_window\")\n",
    "        searchbox.send_keys(df1[\"place\"][i])\n",
    "        searchbox.send_keys(Keys.ENTER)\n",
    "        time.sleep(1)\n",
    "        try:\n",
    "            changed_add = driver.find_element(By.CSS_SELECTOR, \".LDgIH\").text\n",
    "            change_rows.append(i)\n",
    "            changed_address.append(changed_add)\n",
    "        except:\n",
    "            delete_rows.append(i)\n",
    "        searchbox = driver.find_element(By.CSS_SELECTOR, \".box_window\")\n",
    "        searchbox.send_keys(Keys.CONTROL, 'A')\n",
    "        searchbox.send_keys(Keys.DELETE)\n",
    "        time.sleep(0.5)\n",
    "\n",
    "\n",
    "print(changed_address)\n",
    "print(change_rows)\n",
    "print(delete_rows)"
   ]
  },
  {
   "cell_type": "code",
   "execution_count": null,
   "id": "1103cc10-4a21-40bb-bf40-bc158cfdeaf0",
   "metadata": {},
   "outputs": [],
   "source": [
    "print(len(changed_address))\n",
    "print(len(change_rows))\n",
    "print(len(delete_rows))"
   ]
  },
  {
   "cell_type": "code",
   "execution_count": null,
   "id": "eea19cbe-087e-4ea6-b2ff-e6949ef323ef",
   "metadata": {},
   "outputs": [],
   "source": [
    "df_changed = df1\n",
    "df_changed.loc[change_rows, \"address\"] = changed_address\n",
    "df_changed"
   ]
  },
  {
   "cell_type": "code",
   "execution_count": null,
   "id": "0744c89a-cda0-4e1a-b7cd-f1a5a7c090fd",
   "metadata": {},
   "outputs": [],
   "source": [
    "df_changed.drop(index=delete_rows, inplace=True)"
   ]
  },
  {
   "cell_type": "code",
   "execution_count": null,
   "id": "8d41e1e1-4b73-4038-915f-03863db56a5b",
   "metadata": {},
   "outputs": [],
   "source": [
    "\n",
    "changed_address = []\n",
    "change_rows = []\n",
    "delete_rows = []\n",
    "\n",
    "for i in range(len(df_changed)):\n",
    "    if(df_changed[\"place\"][i]==df_changed[\"address\"][i]):\n",
    "        searchbox = driver.find_element(By.CSS_SELECTOR, \".box_window\")\n",
    "        searchbox.send_keys(df1[\"place\"][i])\n",
    "        searchbox.send_keys(Keys.ENTER)\n",
    "        time.sleep(1)\n",
    "        try:\n",
    "            changed_add = driver.find_element(By.CSS_SELECTOR, \".LDgIH\").text\n",
    "            change_rows.append(i)\n",
    "            changed_address.append(changed_add)\n",
    "        except:\n",
    "            delete_rows.append(i)\n",
    "        searchbox = driver.find_element(By.CSS_SELECTOR, \".box_window\")\n",
    "        searchbox.send_keys(Keys.CONTROL, 'A')\n",
    "        searchbox.send_keys(Keys.DELETE)\n",
    "        time.sleep(0.5)\n",
    "\n",
    "\n",
    "print(changed_address)\n",
    "print(change_rows)\n",
    "print(delete_rows)"
   ]
  },
  {
   "cell_type": "code",
   "execution_count": null,
   "id": "49c36346-6ff2-4d34-bcfe-c08f9e944a67",
   "metadata": {},
   "outputs": [],
   "source": [
    "df_changed[\"place\"][1]"
   ]
  },
  {
   "cell_type": "code",
   "execution_count": null,
   "id": "802cd433-1a26-4d32-aa06-b0178cc43883",
   "metadata": {},
   "outputs": [],
   "source": [
    "df_changed.to_csv(\"jeju_tour.csv\","
   ]
  },
  {
   "cell_type": "code",
   "execution_count": null,
   "id": "dc7ccbef-ca82-4f16-8b78-1e3f8ecfaf00",
   "metadata": {},
   "outputs": [],
   "source": [
    "\n",
    "data = {\n",
    "    \"column_name\": [\"A\", \"B\", \"C\", \"D\", \"E\", \"F\"] * 32  # 192개 행 생성 (예제)\n",
    "}\n",
    "df = pd.DataFrame(data)\n",
    "\n",
    "# 인덱스 리스트\n",
    "index_list = [0, 11, 12, 39, 40, 42, 43, 44, 45, 46, 47, 49, 50, \n",
    "              56, 57, 58, 91, 98, 104, 108, 111, 120, 133, 137, 140, 151]\n",
    "\n",
    "# 특정 인덱스의 'column_name' 값을 변경\n",
    "df.loc[index_list, \"column_name\"] = \"NEW_VALUE\"\n",
    "\n",
    "# 전체 데이터프레임 출력\n",
    "print(df)\n"
   ]
  }
 ],
 "metadata": {
  "kernelspec": {
   "display_name": "Python 3 (ipykernel)",
   "language": "python",
   "name": "python3"
  },
  "language_info": {
   "codemirror_mode": {
    "name": "ipython",
    "version": 3
   },
   "file_extension": ".py",
   "mimetype": "text/x-python",
   "name": "python",
   "nbconvert_exporter": "python",
   "pygments_lexer": "ipython3",
   "version": "3.9.21"
  }
 },
 "nbformat": 4,
 "nbformat_minor": 5
}
