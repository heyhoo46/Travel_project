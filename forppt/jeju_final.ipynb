{
 "cells": [
  {
   "cell_type": "code",
   "execution_count": null,
   "id": "273d24ec-421d-4a86-844b-918d81a5de02",
   "metadata": {},
   "outputs": [],
   "source": [
    "from selenium import webdriver as wb\n",
    "from selenium.webdriver.common.by import By\n",
    "from selenium.webdriver.common.keys import Keys\n",
    "import pandas as pd\n",
    "import time\n",
    "import re\n"
   ]
  },
  {
   "cell_type": "code",
   "execution_count": null,
   "id": "58d111fb-416b-44cc-b04a-ee0c21d059da",
   "metadata": {},
   "outputs": [],
   "source": [
    "df_tour = pd.read_csv(\"./tour_test.csv\")\n",
    "df_spot = pd.read_csv(\"./spot_test.csv\")\n",
    "df_distance = pd.read_csv(\"./distance_test.csv\")\n",
    "df_road = pd.read_csv(\"./road_jeju.csv\")"
   ]
  },
  {
   "cell_type": "code",
   "execution_count": null,
   "id": "3985632d-ff4f-49fa-9ac2-3085d4390750",
   "metadata": {},
   "outputs": [],
   "source": [
    "name_list = []\n",
    "category_list = []\n",
    "address_list = []\n",
    "score_list = []\n",
    "bushour_list = []\n",
    "summary_list = []\n",
    "time_list = []\n",
    "distance_list = []\n",
    "\n",
    "for i in range(len(df_tour)):\n",
    "    spot_name_list = []\n",
    "    spot_category_list = []\n",
    "    spot_address_list = []\n",
    "    spot_score_list = []\n",
    "    spot_bushour_list = []\n",
    "    spot_summary_list = []\n",
    "    spot_time_list = []\n",
    "    spot_distance_list = []\n",
    "    for j in range(len(df_road)):\n",
    "        if(df_tour[\"place\"][i] == df_road[\"home\"][j]):\n",
    "            spot_name = df_road[\"dest\"][j]\n",
    "            spot_category = df_spot.loc[df_spot[\"place\"] == spot_name, \"category\"].values[0]\n",
    "            spot_address = df_spot.loc[df_spot[\"place\"] == spot_name, \"address\"].values[0]\n",
    "            spot_score = float(df_spot.loc[df_spot[\"place\"] == spot_name, \"score\"].values[0])\n",
    "            spot_bushour = df_spot.loc[df_spot[\"place\"] == spot_name, \"bushour\"].values[0]\n",
    "            spot_summary = df_spot.loc[df_spot[\"place\"] == spot_name, \"summary\"].values[0]\n",
    "            spot_time = df_road.loc[df_road[\"dest\"] == spot_name, \"time_bywalk\"].values[0]\n",
    "            spot_distance = df_road.loc[df_road[\"dest\"] == spot_name, \"distance_bywalk\"].values[0]\n",
    "\n",
    "            spot_name_list.append(spot_name)\n",
    "            spot_category_list.append(spot_category)\n",
    "            spot_address_list.append(spot_address)\n",
    "            spot_score_list.append(spot_score)\n",
    "            spot_bushour_list.append(spot_bushour)\n",
    "            spot_summary_list.append(spot_summary)\n",
    "            spot_time_list.append(spot_time)\n",
    "            spot_distance_list.append(spot_distance)\n",
    "        \n",
    "    name_list.append(spot_name_list)\n",
    "    category_list.append(spot_category_list)\n",
    "    address_list.append(spot_address_list)\n",
    "    score_list.append(spot_score_list)\n",
    "    bushour_list.append(spot_bushour_list)\n",
    "    summary_list.append(spot_summary_list)\n",
    "    time_list.append(spot_time_list)\n",
    "    distance_list.append(spot_distance_list)\n"
   ]
  },
  {
   "cell_type": "code",
   "execution_count": null,
   "id": "8f0d43f6-0501-4430-84e8-2b66e40fa568",
   "metadata": {},
   "outputs": [],
   "source": [
    "score_list"
   ]
  },
  {
   "cell_type": "code",
   "execution_count": null,
   "id": "964d0117-555d-4987-84ca-459eaca320ad",
   "metadata": {},
   "outputs": [],
   "source": [
    "df_final = df_tour.assign(\n",
    "            spot_name = name_list,\n",
    "            spot_category = category_list,\n",
    "            spot_address = address_list,\n",
    "            spot_score = score_list,\n",
    "            spot_bushour = bushour_list,\n",
    "            spot_summary = summary_list,\n",
    "            spot_time = time_list,\n",
    "            spot_distance = distance_list\n",
    ")\n",
    "print(df_final[\"spot_name\"][186])"
   ]
  },
  {
   "cell_type": "code",
   "execution_count": null,
   "id": "c5fed97f-607a-404b-8467-dcc6265c87e5",
   "metadata": {},
   "outputs": [],
   "source": [
    "df_final.to_csv(\"jeju_final_test3.csv\", index=False, encoding='utf-8-sig')"
   ]
  },
  {
   "cell_type": "code",
   "execution_count": null,
   "id": "130558c1-c3ef-45ff-a160-58583ae61b44",
   "metadata": {},
   "outputs": [],
   "source": [
    "print(df_final[\"spot_score\"][14])"
   ]
  },
  {
   "cell_type": "code",
   "execution_count": null,
   "id": "e3e312e9-c013-47a2-8fa3-b507c0a8c108",
   "metadata": {},
   "outputs": [],
   "source": [
    "len(df_final[\"spot_name\"])"
   ]
  },
  {
   "cell_type": "code",
   "execution_count": null,
   "id": "04bab171-339d-4b2a-9d5e-60e0608df34b",
   "metadata": {},
   "outputs": [],
   "source": [
    "def delete_none(a_list):\n",
    "    for i in range(len(a_list)):\n",
    "        if(len(a_list[i])==0):\n",
    "            a_list[i] = \"\"\n",
    "    \n"
   ]
  },
  {
   "cell_type": "code",
   "execution_count": null,
   "id": "f802e266-4122-4ce7-8d7c-84091a345de4",
   "metadata": {},
   "outputs": [],
   "source": [
    "delete_none(df_final[\"spot_name\"])\n",
    "delete_none(df_final[\"spot_category\"])\n",
    "delete_none(df_final[\"spot_address\"])\n",
    "delete_none(df_final[\"spot_score\"])\n",
    "delete_none(df_final[\"spot_bushour\"])\n",
    "delete_none(df_final[\"spot_summary\"])\n",
    "delete_none(df_final[\"spot_time\"])\n",
    "delete_none(df_final[\"spot_distance\"])"
   ]
  },
  {
   "cell_type": "code",
   "execution_count": null,
   "id": "7fdbafd7-760a-4f35-9a3e-abd7bbe5d158",
   "metadata": {},
   "outputs": [],
   "source": [
    "df_final.to_csv(\"jeju_final_test5.csv\", index=False, encoding='utf-8-sig')"
   ]
  }
 ],
 "metadata": {
  "kernelspec": {
   "display_name": "Python 3 (ipykernel)",
   "language": "python",
   "name": "python3"
  },
  "language_info": {
   "codemirror_mode": {
    "name": "ipython",
    "version": 3
   },
   "file_extension": ".py",
   "mimetype": "text/x-python",
   "name": "python",
   "nbconvert_exporter": "python",
   "pygments_lexer": "ipython3",
   "version": "3.9.21"
  }
 },
 "nbformat": 4,
 "nbformat_minor": 5
}
